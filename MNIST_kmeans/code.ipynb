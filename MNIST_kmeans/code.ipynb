{
 "cells": [
  {
   "cell_type": "code",
   "execution_count": 79,
   "metadata": {},
   "outputs": [],
   "source": [
    "import pandas as pd\n",
    "import numpy as np\n",
    "import matplotlib.pyplot as plt\n",
    "%matplotlib inline\n",
    "from sklearn.cluster import KMeans\n",
    "from keras.datasets import mnist\n",
    "from sklearn.cluster import MiniBatchKMeans\n",
    "import statistics"
   ]
  },
  {
   "cell_type": "code",
   "execution_count": 22,
   "metadata": {},
   "outputs": [],
   "source": [
    "(X_train, Y_train), (X_test, Y_test) = mnist.load_data()"
   ]
  },
  {
   "cell_type": "code",
   "execution_count": 23,
   "metadata": {},
   "outputs": [
    {
     "data": {
      "image/png": "[encoded data removed]",
      "text/plain": [
       "<Figure size 864x864 with 9 Axes>"
      ]
     },
     "metadata": {
      "needs_background": "light"
     },
     "output_type": "display_data"
    }
   ],
   "source": [
    "fig, axs = plt.subplots(3, 3, figsize = (12, 12))\n",
    "plt.gray()\n",
    "for i, ax in enumerate(axs.flat):\n",
    "    ax.matshow(X_train[i])"
   ]
  },
  {
   "cell_type": "code",
   "execution_count": 24,
   "metadata": {},
   "outputs": [],
   "source": [
    "X_train = X_train.reshape(len(X_train),-1)\n",
    "Y_train = Y_train\n",
    "X_train = X_train.astype(float)/255"
   ]
  },
  {
   "cell_type": "code",
   "execution_count": 25,
   "metadata": {},
   "outputs": [],
   "source": [
    "n_digits = len(np.unique(Y_test))\n",
    "kmeans = MiniBatchKMeans(n_clusters=n_digits).fit(X_train)"
   ]
  },
  {
   "cell_type": "code",
   "execution_count": 67,
   "metadata": {},
   "outputs": [
    {
     "data": {
      "text/plain": [
       "10"
      ]
     },
     "execution_count": 67,
     "metadata": {},
     "output_type": "execute_result"
    }
   ],
   "source": [
    "kmeans.n_clusters"
   ]
  },
  {
   "cell_type": "code",
   "execution_count": 40,
   "metadata": {},
   "outputs": [
    {
     "name": "stdout",
     "output_type": "stream",
     "text": [
      "[0 0 4 8 7 6 1 0 1 5 3 5 3 6 1 7 6 8 1 7]\n",
      "[5 0 4 1 9 2 1 3 1 4 3 5 3 6 1 7 2 8 6 9]\n"
     ]
    }
   ],
   "source": [
    "#COPIED:\n",
    "def infer_cluster_labels(kmeans, actual_labels):\n",
    "    inferred_labels = {}\n",
    "\n",
    "    for i in range(kmeans.n_clusters):\n",
    "\n",
    "        # find index of points in cluster\n",
    "        labels = []\n",
    "        index = np.where(kmeans.labels_ == i)\n",
    "\n",
    "        # append actual labels for each point in cluster\n",
    "        labels.append(actual_labels[index])\n",
    "\n",
    "        # determine most common label\n",
    "        if len(labels[0]) == 1:\n",
    "            counts = np.bincount(labels[0])\n",
    "        else:\n",
    "            counts = np.bincount(np.squeeze(labels))\n",
    "\n",
    "        # assign the cluster to a value in the inferred_labels dictionary\n",
    "        if np.argmax(counts) in inferred_labels:\n",
    "            # append the new number to the existing array at this slot\n",
    "            inferred_labels[np.argmax(counts)].append(i)\n",
    "        else:\n",
    "            # create a new array in this slot\n",
    "            inferred_labels[np.argmax(counts)] = [i]\n",
    "\n",
    "        #print(labels)\n",
    "        #print('Cluster: {}, label: {}'.format(i, np.argmax(counts)))\n",
    "\n",
    "    return inferred_labels\n",
    "\n",
    "def infer_data_labels(X_labels, cluster_labels):\n",
    "  # empty array of len(X)\n",
    "    predicted_labels = np.zeros(len(X_labels)).astype(np.uint8)\n",
    "\n",
    "    for i, cluster in enumerate(X_labels):\n",
    "        for key, value in cluster_labels.items():\n",
    "            if cluster in value:\n",
    "                predicted_labels[i] = key\n",
    "\n",
    "    return predicted_labels\n",
    "\n",
    "# test the infer_cluster_labels() and infer_data_labels() functions\n",
    "\n",
    "cluster_labels = infer_cluster_labels(kmeans, Y_train)\n",
    "X_clusters = kmeans.predict(X_train)\n",
    "predicted_labels = infer_data_labels(X_clusters, cluster_labels)\n",
    "print(predicted_labels[:20])\n",
    "print(Y_train[:20])"
   ]
  },
  {
   "cell_type": "code",
   "execution_count": 73,
   "metadata": {},
   "outputs": [
    {
     "data": {
      "text/plain": [
       "[(array([    6,     8,    14, ..., 59891, 59930, 59997], dtype=int64),),\n",
       " (array([    2,    20,    38, ..., 59765, 59771, 59817], dtype=int64),),\n",
       " (array([    4,    15,    19, ..., 59977, 59990, 59992], dtype=int64),),\n",
       " (array([    5,    13,    16, ..., 59976, 59981, 59985], dtype=int64),),\n",
       " (array([    0,     1,     7, ..., 59980, 59987, 59996], dtype=int64),),\n",
       " (array([   10,    12,    25, ..., 59914, 59955, 59978], dtype=int64),),\n",
       " (array([    3,    17,    23, ..., 59984, 59989, 59995], dtype=int64),),\n",
       " (array([   21,    51,    56, ..., 59840, 59869, 59878], dtype=int64),),\n",
       " (array([    9,    11,    24, ..., 59993, 59998, 59999], dtype=int64),),\n",
       " (array([   40,    53,    59, ..., 59958, 59979, 59994], dtype=int64),)]"
      ]
     },
     "execution_count": 73,
     "metadata": {},
     "output_type": "execute_result"
    }
   ],
   "source": [
    "indexes = []\n",
    "for i in range(kmeans.n_clusters):\n",
    "    index = np.where(kmeans.labels_ == i)\n",
    "    indexes.append(index)\n",
    "list(indexes)"
   ]
  },
  {
   "cell_type": "code",
   "execution_count": 78,
   "metadata": {},
   "outputs": [
    {
     "data": {
      "text/plain": [
       "[array([1, 1, 1, ..., 3, 3, 5], dtype=uint8),\n",
       " array([4, 4, 7, ..., 9, 9, 9], dtype=uint8),\n",
       " array([9, 7, 9, ..., 7, 9, 9], dtype=uint8),\n",
       " array([2, 6, 2, ..., 6, 6, 2], dtype=uint8),\n",
       " array([5, 0, 3, ..., 3, 0, 3], dtype=uint8),\n",
       " array([3, 3, 2, ..., 3, 3, 3], dtype=uint8),\n",
       " array([1, 8, 1, ..., 1, 8, 8], dtype=uint8),\n",
       " array([0, 0, 0, ..., 0, 0, 0], dtype=uint8),\n",
       " array([4, 5, 1, ..., 5, 6, 8], dtype=uint8),\n",
       " array([1, 4, 1, ..., 1, 1, 1], dtype=uint8)]"
      ]
     },
     "execution_count": 78,
     "metadata": {},
     "output_type": "execute_result"
    }
   ],
   "source": [
    "probable_labels = []\n",
    "for j in range(len(indexes)):\n",
    "    probable_labels.append(Y_train[indexes[j]])\n",
    "list(probable_labels)"
   ]
  },
  {
   "cell_type": "code",
   "execution_count": 80,
   "metadata": {},
   "outputs": [
    {
     "data": {
      "text/plain": [
       "[1, 4, 7, 6, 0, 3, 8, 0, 5, 1]"
      ]
     },
     "execution_count": 80,
     "metadata": {},
     "output_type": "execute_result"
    }
   ],
   "source": [
    "most_common_label = []\n",
    "for j in range(len(probable_labels)):\n",
    "    most_common_label.append(statistics.mode(probable_labels[j]))\n",
    "most_common_label"
   ]
  }
 ],
 "metadata": {
  "kernelspec": {
   "display_name": "Python 3",
   "language": "python",
   "name": "python3"
  },
  "language_info": {
   "codemirror_mode": {
    "name": "ipython",
    "version": 3
   },
   "file_extension": ".py",
   "mimetype": "text/x-python",
   "name": "python",
   "nbconvert_exporter": "python",
   "pygments_lexer": "ipython3",
   "version": "3.7.4"
  }
 },
 "nbformat": 4,
 "nbformat_minor": 2
}
